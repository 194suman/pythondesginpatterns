{
 "cells": [
  {
   "cell_type": "code",
   "execution_count": 1,
   "metadata": {},
   "outputs": [
    {
     "name": "stdout",
     "output_type": "stream",
     "text": [
      "sai\n",
      "jay\n",
      "vedha\n",
      "dhana\n"
     ]
    }
   ],
   "source": [
    "# iterator design pattern\n",
    "persons = [{\"name\":\"sai\",\"id\":2},{\"name\":\"jay\",\"id\":3},{\"name\":\"vedha\",\"id\":4},{\"name\":\"dhana\",\"id\":5},]\n",
    "for person in persons:\n",
    "    print(person.get(\"name\"))"
   ]
  },
  {
   "cell_type": "code",
   "execution_count": 4,
   "metadata": {},
   "outputs": [
    {
     "name": "stdout",
     "output_type": "stream",
     "text": [
      "customer created successfully\n",
      "supplier created successfully\n",
      "product created successfully!!\n"
     ]
    }
   ],
   "source": [
    "# decorator desgin pattern\n",
    "def customer_create(name):\n",
    "    print(\"customer created successfully\")\n",
    "def supplier_create(name):\n",
    "    print(\"supplier created successfully\")\n",
    "def product(name,cost):\n",
    "    print(\"product created successfully!!\")\n",
    "customer_create(\"cust1\")\n",
    "supplier_create(\"sup1\")\n",
    "product(\"prod1\",10)"
   ]
  },
  {
   "cell_type": "code",
   "execution_count": 5,
   "metadata": {},
   "outputs": [
    {
     "name": "stdout",
     "output_type": "stream",
     "text": [
      "authencation code..\n",
      "customer created successfully\n",
      "authencation code..\n",
      "supplier created successfully\n",
      "authencation code..\n",
      "product created successfully!!\n"
     ]
    }
   ],
   "source": [
    "# After done with some sort of app development, customer expecting authenticaiton and authorization process. if you \n",
    "# depict your code on each and every function, then it will increase the number of lines of code and testing of each\n",
    "#function will take time. in this scenario will use decorator design pattern.\n",
    "def auth(method):\n",
    "    def inner(*args, **kwargs):\n",
    "        print(\"authencation code..\")\n",
    "        return method(*args, **kwargs)\n",
    "    return inner\n",
    "@auth\n",
    "def customer_create(name):\n",
    "    print(\"customer created successfully\")\n",
    "@auth\n",
    "def supplier_create(name):\n",
    "    print(\"supplier created successfully\")\n",
    "@auth\n",
    "def product(name,cost):\n",
    "    print(\"product created successfully!!\")\n",
    "customer_create(\"cust1\")\n",
    "supplier_create(\"sup1\")\n",
    "product(\"prod1\",10)"
   ]
  },
  {
   "cell_type": "code",
   "execution_count": 7,
   "metadata": {},
   "outputs": [
    {
     "name": "stdout",
     "output_type": "stream",
     "text": [
      "GuduruJayaram\n",
      "GuduruJayaram\n"
     ]
    }
   ],
   "source": [
    "# observer design patterns\n",
    "# in django can say middlewares and signals are observer design patterns..\n",
    "class Emp:\n",
    "    def __init__(self,first_name,second_name):\n",
    "        self.first_name=first_name\n",
    "        self.second_name=second_name\n",
    "        self.name=self.first_name+self.second_name\n",
    "    def get(self):\n",
    "        return self.name\n",
    "jay=Emp(\"Guduru\",\"Jayaram\")\n",
    "print(jay.get())\n",
    "jay.first_name=\"Gosangi\"\n",
    "print(jay.get())"
   ]
  },
  {
   "cell_type": "code",
   "execution_count": 17,
   "metadata": {},
   "outputs": [
    {
     "name": "stdout",
     "output_type": "stream",
     "text": [
      "GuduruJayaram\n",
      "GosangoiJayaram\n"
     ]
    }
   ],
   "source": [
    "# to solve the aobe issue can use observer design pattern\n",
    "class Emp:\n",
    "    def __init__(self,first_name,second_name):\n",
    "        self.first_name=first_name\n",
    "        self.second_name=second_name\n",
    "        #self.name=self.first_name+self.second_name\n",
    "    @property\n",
    "    def name(self):\n",
    "        return self.first_name+self.second_name\n",
    "jay=Emp(\"Guduru\",\"Jayaram\")\n",
    "print(jay.name)\n",
    "jay.first_name=\"Gosangoi\"\n",
    "print(jay.name)"
   ]
  },
  {
   "cell_type": "code",
   "execution_count": 20,
   "metadata": {},
   "outputs": [
    {
     "name": "stdout",
     "output_type": "stream",
     "text": [
      "('first_name', 'Guduru')\n",
      "('second_name', 'Jayaram')\n",
      "('first_name', 'Gosangoi')\n"
     ]
    }
   ],
   "source": [
    "# to solve the aobe issue can use observer design pattern\n",
    "class Emp:\n",
    "    def __init__(self,first_name,second_name):\n",
    "        self.first_name=first_name\n",
    "        self.second_name=second_name\n",
    "        #self.name=self.first_name+self.second_name\n",
    "    def __setattr__(self,*args):\n",
    "        print(args)\n",
    "jay=Emp(\"Guduru\",\"Jayaram\")\n",
    "jay.first_name=\"Gosangoi\""
   ]
  },
  {
   "cell_type": "code",
   "execution_count": 27,
   "metadata": {},
   "outputs": [
    {
     "name": "stdout",
     "output_type": "stream",
     "text": [
      "Guduru Jayaram\n",
      "Gosangoi Jayaram\n"
     ]
    }
   ],
   "source": [
    "# to solve the aobe issue can use observer design pattern\n",
    "class Emp:\n",
    "    def __init__(self,first_name,second_name):\n",
    "        self.first_name=first_name\n",
    "        self.second_name=second_name\n",
    "        self.name=self.first_name+ \" \" +self.second_name\n",
    "    def __setattr__(self,*args):\n",
    "        if \"first_name\" in args:\n",
    "            if \"name\" in self.__dict__:\n",
    "                names = self.name.split()\n",
    "                names[0]=args[1]\n",
    "                object.__setattr__(self,'name',\" \".join(names))\n",
    "        elif \"second_name\" in args:\n",
    "            if \"name\" in self.__dict__:\n",
    "                names = self.name.split()\n",
    "                names[1]=args[1]\n",
    "                object.__setattr__(self,'name',\" \".join(names))\n",
    "        object.__setattr__(self,*args)\n",
    "        \n",
    "jay=Emp(\"Guduru\",\"Jayaram\")\n",
    "print(jay.name)\n",
    "jay.first_name=\"Gosangoi\"\n",
    "print(jay.name)"
   ]
  },
  {
   "cell_type": "code",
   "execution_count": 29,
   "metadata": {},
   "outputs": [
    {
     "name": "stdout",
     "output_type": "stream",
     "text": [
      "validation\n",
      "insertion done on {'name': 'jayaram'}\n",
      "insertion done on {'name': 'c1'}\n"
     ]
    }
   ],
   "source": [
    "# If the above code is clumsy then follwo this\n",
    "class Model:\n",
    "    def __init__(self,data):\n",
    "        self.data=data\n",
    "    def create(self):\n",
    "        print(\"insertion done on %s\" % self.data)\n",
    "class Emp(Model):\n",
    "    def create(self):\n",
    "        print(\"validation\")\n",
    "        Model.create(self)\n",
    "        \n",
    "class Customer(Model):\n",
    "    pass\n",
    "jay=Emp({\"name\":\"jayaram\"})\n",
    "jay.create()\n",
    "c1 =Customer({\"name\":\"c1\"})\n",
    "c1.create()"
   ]
  },
  {
   "cell_type": "code",
   "execution_count": 30,
   "metadata": {},
   "outputs": [],
   "source": [
    "# strategy pattern: for one problem find multiple solutions and let program to decide whcich is good. Used this in my automl\n",
    "# project https://github.com/sambapython/automl/blob/master/auto/views.py. Here i am caluculating errro value from\n",
    "# linearregressionmodel, decissiontreemodel, randomforestmodel, gradientboostingmodel taking the model which has given \n",
    "# less error value."
   ]
  },
  {
   "cell_type": "code",
   "execution_count": null,
   "metadata": {},
   "outputs": [],
   "source": []
  }
 ],
 "metadata": {
  "kernelspec": {
   "display_name": "Python 3",
   "language": "python",
   "name": "python3"
  },
  "language_info": {
   "codemirror_mode": {
    "name": "ipython",
    "version": 3
   },
   "file_extension": ".py",
   "mimetype": "text/x-python",
   "name": "python",
   "nbconvert_exporter": "python",
   "pygments_lexer": "ipython3",
   "version": "3.7.3"
  }
 },
 "nbformat": 4,
 "nbformat_minor": 2
}
